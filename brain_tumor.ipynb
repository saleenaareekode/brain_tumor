{
 "cells": [
  {
   "cell_type": "code",
   "execution_count": 1,
   "metadata": {
    "id": "Z4mDt9BtmltD"
   },
   "outputs": [
    {
     "name": "stderr",
     "output_type": "stream",
     "text": [
      "Using TensorFlow backend.\n"
     ]
    }
   ],
   "source": [
    "from keras.layers import *\n",
    "from keras.models import * \n",
    "import keras as tf"
   ]
  },
  {
   "cell_type": "code",
   "execution_count": 2,
   "metadata": {},
   "outputs": [],
   "source": [
    "train_path = 'dataset/train'\n",
    "test_path = 'dataset/test'"
   ]
  },
  {
   "cell_type": "code",
   "execution_count": 3,
   "metadata": {
    "id": "hOvTy9t6m4Y3"
   },
   "outputs": [],
   "source": [
    "#Training model\n",
    "model = Sequential()   ## creating a blank model\n",
    "model.add(Conv2D(32,kernel_size=(3,3),activation='relu',input_shape=(224,224,3)))\n",
    "model.add(MaxPooling2D(pool_size=(2,2)))\n",
    "\n",
    "model.add(Conv2D(64,(3,3),activation='relu'))\n",
    "model.add(MaxPooling2D(pool_size=(2,2)))\n",
    "model.add(Dropout(0.25))    # reduce the overfitting\n",
    " \n",
    "model.add(Conv2D(64,(3,3),activation='relu'))\n",
    "model.add(MaxPooling2D(pool_size=(2,2)))\n",
    "model.add(Dropout(0.25))\n",
    " \n",
    "model.add(Conv2D(128,(3,3),activation='relu'))\n",
    "model.add(MaxPooling2D(pool_size=(2,2)))\n",
    "model.add(Dropout(0.25))\n",
    " \n",
    "model.add(Flatten())    ### input layer\n",
    "model.add(Dense(64,activation='relu'))    ## hidden layer of ann\n",
    "model.add(Dropout(0.5))\n",
    "model.add(Dense(1,activation='sigmoid'))   ## output layer\n",
    " \n",
    "model.compile(loss='binary_crossentropy',optimizer='adam',metrics=['accuracy'])"
   ]
  },
  {
   "cell_type": "code",
   "execution_count": 4,
   "metadata": {
    "id": "BydpwHhWm56l"
   },
   "outputs": [],
   "source": [
    "#Moulding train images  (Enlarging the dataset)\n",
    "from tensorflow.keras.preprocessing import image\n",
    "train_datagen = image.ImageDataGenerator(rescale = 1./255, \n",
    "                                         shear_range = 0.2,\n",
    "                                         zoom_range = 0.2, \n",
    "                                         horizontal_flip = True)\n",
    " \n",
    "test_dataset = image.ImageDataGenerator(rescale=1./255)"
   ]
  },
  {
   "cell_type": "code",
   "execution_count": 5,
   "metadata": {
    "colab": {
     "base_uri": "https://localhost:8080/"
    },
    "id": "-TMgXH8Em7Z_",
    "outputId": "f80b98ac-dd7e-46df-927a-54e7c6eb848e"
   },
   "outputs": [
    {
     "name": "stdout",
     "output_type": "stream",
     "text": [
      "Found 200 images belonging to 2 classes.\n",
      "Found 53 images belonging to 2 classes.\n"
     ]
    }
   ],
   "source": [
    "#Reshaping test and validation images \n",
    "train_generator = train_datagen.flow_from_directory(\n",
    "    train_path,\n",
    "    target_size = (224,224),\n",
    "    batch_size = 32,\n",
    "    class_mode = 'binary')\n",
    "validation_generator = test_dataset.flow_from_directory(\n",
    "    test_path,\n",
    "    target_size = (224,224),\n",
    "    batch_size = 32,\n",
    "    class_mode = 'binary')"
   ]
  },
  {
   "cell_type": "code",
   "execution_count": 6,
   "metadata": {
    "id": "_9G822uam81e",
    "scrolled": true
   },
   "outputs": [
    {
     "name": "stdout",
     "output_type": "stream",
     "text": [
      "Epoch 1/100\n",
      "7/7 [==============================] - 19s 3s/step - loss: 0.7069 - accuracy: 0.5500 - val_loss: 0.6145 - val_accuracy: 0.7812\n",
      "Epoch 2/100\n",
      "7/7 [==============================] - 16s 2s/step - loss: 0.6744 - accuracy: 0.6000 - val_loss: 0.6767 - val_accuracy: 0.5714\n",
      "Epoch 3/100\n",
      "7/7 [==============================] - 16s 2s/step - loss: 0.6618 - accuracy: 0.6300 - val_loss: 0.6535 - val_accuracy: 0.8438\n",
      "Epoch 4/100\n",
      "7/7 [==============================] - 16s 2s/step - loss: 0.5902 - accuracy: 0.7150 - val_loss: 0.3901 - val_accuracy: 0.9048\n",
      "Epoch 5/100\n",
      "7/7 [==============================] - 17s 2s/step - loss: 0.6764 - accuracy: 0.6850 - val_loss: 0.5929 - val_accuracy: 0.8750\n",
      "Epoch 6/100\n",
      "7/7 [==============================] - 16s 2s/step - loss: 0.6412 - accuracy: 0.6500 - val_loss: 0.5505 - val_accuracy: 0.8571\n",
      "Epoch 7/100\n",
      "7/7 [==============================] - 17s 2s/step - loss: 0.6208 - accuracy: 0.6700 - val_loss: 0.5628 - val_accuracy: 0.7812\n",
      "Epoch 8/100\n",
      "7/7 [==============================] - 16s 2s/step - loss: 0.5726 - accuracy: 0.7050 - val_loss: 0.4500 - val_accuracy: 0.9048\n",
      "Epoch 9/100\n",
      "7/7 [==============================] - 17s 2s/step - loss: 0.5660 - accuracy: 0.7100 - val_loss: 0.4948 - val_accuracy: 0.8438\n",
      "Epoch 10/100\n",
      "7/7 [==============================] - 16s 2s/step - loss: 0.5878 - accuracy: 0.7100 - val_loss: 0.4709 - val_accuracy: 0.9048\n",
      "Epoch 11/100\n",
      "7/7 [==============================] - 17s 2s/step - loss: 0.5696 - accuracy: 0.6950 - val_loss: 0.5038 - val_accuracy: 0.9062\n",
      "Epoch 12/100\n",
      "7/7 [==============================] - 17s 2s/step - loss: 0.6254 - accuracy: 0.6700 - val_loss: 0.4922 - val_accuracy: 0.9048\n",
      "Epoch 13/100\n",
      "7/7 [==============================] - 17s 2s/step - loss: 0.5282 - accuracy: 0.7300 - val_loss: 0.4217 - val_accuracy: 0.8750\n",
      "Epoch 14/100\n",
      "7/7 [==============================] - 17s 2s/step - loss: 0.5282 - accuracy: 0.7300 - val_loss: 0.4501 - val_accuracy: 0.8571\n",
      "Epoch 15/100\n",
      "7/7 [==============================] - 17s 2s/step - loss: 0.6375 - accuracy: 0.7050 - val_loss: 0.5352 - val_accuracy: 0.9062\n",
      "Epoch 16/100\n",
      "7/7 [==============================] - 17s 2s/step - loss: 0.5575 - accuracy: 0.6750 - val_loss: 0.4796 - val_accuracy: 0.7619\n",
      "Epoch 17/100\n",
      "7/7 [==============================] - 17s 2s/step - loss: 0.5634 - accuracy: 0.7350 - val_loss: 0.5855 - val_accuracy: 0.8750\n",
      "Epoch 18/100\n",
      "7/7 [==============================] - 19s 3s/step - loss: 0.5914 - accuracy: 0.7500 - val_loss: 0.5819 - val_accuracy: 0.8095\n",
      "Epoch 19/100\n",
      "7/7 [==============================] - 20s 3s/step - loss: 0.5735 - accuracy: 0.7450 - val_loss: 0.4003 - val_accuracy: 0.9062\n",
      "Epoch 20/100\n",
      "7/7 [==============================] - 18s 3s/step - loss: 0.5014 - accuracy: 0.7500 - val_loss: 0.4804 - val_accuracy: 0.8571\n",
      "Epoch 21/100\n",
      "7/7 [==============================] - 18s 3s/step - loss: 0.5363 - accuracy: 0.7600 - val_loss: 0.4471 - val_accuracy: 0.9062\n",
      "Epoch 22/100\n",
      "7/7 [==============================] - 17s 2s/step - loss: 0.5088 - accuracy: 0.7350 - val_loss: 0.4493 - val_accuracy: 0.9048\n",
      "Epoch 23/100\n",
      "7/7 [==============================] - 17s 2s/step - loss: 0.4827 - accuracy: 0.8050 - val_loss: 0.4689 - val_accuracy: 0.8438\n",
      "Epoch 24/100\n",
      "7/7 [==============================] - 17s 2s/step - loss: 0.4412 - accuracy: 0.7900 - val_loss: 0.3763 - val_accuracy: 0.8095\n",
      "Epoch 25/100\n",
      "7/7 [==============================] - 18s 3s/step - loss: 0.4563 - accuracy: 0.8050 - val_loss: 0.4819 - val_accuracy: 0.7188\n",
      "Epoch 26/100\n",
      "7/7 [==============================] - 18s 3s/step - loss: 0.4167 - accuracy: 0.8100 - val_loss: 0.4802 - val_accuracy: 0.8095\n",
      "Epoch 27/100\n",
      "7/7 [==============================] - 18s 3s/step - loss: 0.4360 - accuracy: 0.8300 - val_loss: 0.5446 - val_accuracy: 0.7188\n",
      "Epoch 28/100\n",
      "7/7 [==============================] - 19s 3s/step - loss: 0.4343 - accuracy: 0.8300 - val_loss: 0.5092 - val_accuracy: 0.7619\n",
      "Epoch 29/100\n",
      "7/7 [==============================] - 17s 2s/step - loss: 0.4449 - accuracy: 0.7850 - val_loss: 0.4704 - val_accuracy: 0.8125\n",
      "Epoch 30/100\n",
      "7/7 [==============================] - 17s 2s/step - loss: 0.3976 - accuracy: 0.8350 - val_loss: 0.3944 - val_accuracy: 0.9048\n",
      "Epoch 31/100\n",
      "7/7 [==============================] - 17s 2s/step - loss: 0.3805 - accuracy: 0.8400 - val_loss: 0.4009 - val_accuracy: 0.8750\n",
      "Epoch 32/100\n",
      "7/7 [==============================] - 17s 2s/step - loss: 0.4423 - accuracy: 0.8700 - val_loss: 0.6711 - val_accuracy: 0.7619\n",
      "Epoch 33/100\n",
      "7/7 [==============================] - 18s 3s/step - loss: 0.3430 - accuracy: 0.8600 - val_loss: 0.3961 - val_accuracy: 0.8750\n",
      "Epoch 34/100\n",
      "7/7 [==============================] - 18s 3s/step - loss: 0.4098 - accuracy: 0.8400 - val_loss: 0.5772 - val_accuracy: 0.7619\n",
      "Epoch 35/100\n",
      "7/7 [==============================] - 18s 3s/step - loss: 0.4758 - accuracy: 0.7700 - val_loss: 0.5588 - val_accuracy: 0.7500\n",
      "Epoch 36/100\n",
      "7/7 [==============================] - 17s 2s/step - loss: 0.4122 - accuracy: 0.8450 - val_loss: 0.4118 - val_accuracy: 0.9524\n",
      "Epoch 37/100\n",
      "7/7 [==============================] - 18s 3s/step - loss: 0.3907 - accuracy: 0.8550 - val_loss: 0.4604 - val_accuracy: 0.8438\n",
      "Epoch 38/100\n",
      "7/7 [==============================] - 17s 2s/step - loss: 0.3863 - accuracy: 0.8300 - val_loss: 0.3991 - val_accuracy: 0.8095\n",
      "Epoch 39/100\n",
      "7/7 [==============================] - 18s 3s/step - loss: 0.3806 - accuracy: 0.8350 - val_loss: 0.4159 - val_accuracy: 0.9062\n",
      "Epoch 40/100\n",
      "7/7 [==============================] - 18s 3s/step - loss: 0.3620 - accuracy: 0.8500 - val_loss: 0.4823 - val_accuracy: 0.8571\n",
      "Epoch 41/100\n",
      "7/7 [==============================] - 19s 3s/step - loss: 0.3866 - accuracy: 0.8300 - val_loss: 0.3817 - val_accuracy: 0.9062\n",
      "Epoch 42/100\n",
      "7/7 [==============================] - 17s 2s/step - loss: 0.3685 - accuracy: 0.8300 - val_loss: 0.5503 - val_accuracy: 0.8095\n",
      "Epoch 43/100\n",
      "7/7 [==============================] - 17s 2s/step - loss: 0.3289 - accuracy: 0.8550 - val_loss: 0.3938 - val_accuracy: 0.8750\n",
      "Epoch 44/100\n",
      "7/7 [==============================] - 16s 2s/step - loss: 0.3312 - accuracy: 0.8500 - val_loss: 0.5372 - val_accuracy: 0.9048\n",
      "Epoch 45/100\n",
      "7/7 [==============================] - 17s 2s/step - loss: 0.3014 - accuracy: 0.9000 - val_loss: 0.4847 - val_accuracy: 0.8438\n",
      "Epoch 46/100\n",
      "7/7 [==============================] - 17s 2s/step - loss: 0.3163 - accuracy: 0.8650 - val_loss: 0.7416 - val_accuracy: 0.7143\n",
      "Epoch 47/100\n",
      "7/7 [==============================] - 17s 2s/step - loss: 0.2687 - accuracy: 0.8800 - val_loss: 0.5075 - val_accuracy: 0.8125\n",
      "Epoch 48/100\n",
      "7/7 [==============================] - 17s 2s/step - loss: 0.2879 - accuracy: 0.8900 - val_loss: 0.8908 - val_accuracy: 0.8095\n",
      "Epoch 49/100\n",
      "7/7 [==============================] - 17s 2s/step - loss: 0.3147 - accuracy: 0.8600 - val_loss: 0.4524 - val_accuracy: 0.8125\n",
      "Epoch 50/100\n",
      "7/7 [==============================] - 17s 2s/step - loss: 0.3385 - accuracy: 0.8700 - val_loss: 0.4300 - val_accuracy: 0.9048\n",
      "Epoch 51/100\n",
      "7/7 [==============================] - 17s 2s/step - loss: 0.3309 - accuracy: 0.8650 - val_loss: 0.3991 - val_accuracy: 0.8438\n",
      "Epoch 52/100\n",
      "7/7 [==============================] - 17s 2s/step - loss: 0.3377 - accuracy: 0.8450 - val_loss: 0.4455 - val_accuracy: 0.8095\n",
      "Epoch 53/100\n",
      "7/7 [==============================] - 17s 2s/step - loss: 0.2989 - accuracy: 0.8550 - val_loss: 0.5382 - val_accuracy: 0.7812\n",
      "Epoch 54/100\n",
      "7/7 [==============================] - 17s 2s/step - loss: 0.2412 - accuracy: 0.8950 - val_loss: 0.3815 - val_accuracy: 0.7619\n",
      "Epoch 55/100\n",
      "7/7 [==============================] - 17s 2s/step - loss: 0.3246 - accuracy: 0.8350 - val_loss: 0.5570 - val_accuracy: 0.7812\n",
      "Epoch 56/100\n",
      "7/7 [==============================] - 18s 3s/step - loss: 0.3062 - accuracy: 0.8450 - val_loss: 0.5064 - val_accuracy: 0.8571\n",
      "Epoch 57/100\n",
      "7/7 [==============================] - 17s 2s/step - loss: 0.2345 - accuracy: 0.9100 - val_loss: 0.4505 - val_accuracy: 0.8750\n",
      "Epoch 58/100\n",
      "7/7 [==============================] - 17s 2s/step - loss: 0.2791 - accuracy: 0.8700 - val_loss: 0.5860 - val_accuracy: 0.8095\n",
      "Epoch 59/100\n",
      "7/7 [==============================] - 27s 4s/step - loss: 0.2494 - accuracy: 0.8850 - val_loss: 0.6218 - val_accuracy: 0.7188\n",
      "Epoch 60/100\n",
      "7/7 [==============================] - 24s 3s/step - loss: 0.2551 - accuracy: 0.9150 - val_loss: 0.3704 - val_accuracy: 0.9048\n",
      "Epoch 61/100\n",
      "7/7 [==============================] - 21s 3s/step - loss: 0.2553 - accuracy: 0.8900 - val_loss: 0.4815 - val_accuracy: 0.8438\n",
      "Epoch 62/100\n",
      "7/7 [==============================] - 19s 3s/step - loss: 0.2567 - accuracy: 0.9000 - val_loss: 0.4530 - val_accuracy: 0.8095\n",
      "Epoch 63/100\n",
      "7/7 [==============================] - 20s 3s/step - loss: 0.2216 - accuracy: 0.9050 - val_loss: 0.4894 - val_accuracy: 0.8750\n",
      "Epoch 64/100\n",
      "7/7 [==============================] - 18s 3s/step - loss: 0.2156 - accuracy: 0.8900 - val_loss: 0.4315 - val_accuracy: 0.8095\n",
      "Epoch 65/100\n",
      "7/7 [==============================] - 18s 3s/step - loss: 0.1824 - accuracy: 0.9350 - val_loss: 0.5840 - val_accuracy: 0.7500\n",
      "Epoch 66/100\n",
      "7/7 [==============================] - 19s 3s/step - loss: 0.2678 - accuracy: 0.8850 - val_loss: 0.3955 - val_accuracy: 0.9048\n",
      "Epoch 67/100\n",
      "7/7 [==============================] - 19s 3s/step - loss: 0.2553 - accuracy: 0.8700 - val_loss: 0.4511 - val_accuracy: 0.7500\n",
      "Epoch 68/100\n",
      "7/7 [==============================] - 20s 3s/step - loss: 0.2011 - accuracy: 0.9100 - val_loss: 0.4740 - val_accuracy: 0.9048\n",
      "Epoch 69/100\n",
      "7/7 [==============================] - 20s 3s/step - loss: 0.1860 - accuracy: 0.9150 - val_loss: 0.8657 - val_accuracy: 0.7500\n",
      "Epoch 70/100\n",
      "7/7 [==============================] - 20s 3s/step - loss: 0.2114 - accuracy: 0.9050 - val_loss: 0.3583 - val_accuracy: 0.9048\n",
      "Epoch 71/100\n",
      "7/7 [==============================] - 21s 3s/step - loss: 0.1789 - accuracy: 0.9450 - val_loss: 0.7397 - val_accuracy: 0.7188\n",
      "Epoch 72/100\n",
      "7/7 [==============================] - 21s 3s/step - loss: 0.1526 - accuracy: 0.9200 - val_loss: 0.3713 - val_accuracy: 0.8571\n",
      "Epoch 73/100\n",
      "7/7 [==============================] - 19s 3s/step - loss: 0.1824 - accuracy: 0.9300 - val_loss: 0.9503 - val_accuracy: 0.7812\n",
      "Epoch 74/100\n",
      "7/7 [==============================] - 17s 2s/step - loss: 0.1495 - accuracy: 0.9450 - val_loss: 0.5393 - val_accuracy: 0.8095\n",
      "Epoch 75/100\n",
      "7/7 [==============================] - 18s 3s/step - loss: 0.1695 - accuracy: 0.9250 - val_loss: 1.1531 - val_accuracy: 0.6875\n",
      "Epoch 76/100\n",
      "7/7 [==============================] - 17s 2s/step - loss: 0.1658 - accuracy: 0.9350 - val_loss: 0.5704 - val_accuracy: 0.7619\n",
      "Epoch 77/100\n",
      "7/7 [==============================] - 17s 2s/step - loss: 0.2103 - accuracy: 0.9300 - val_loss: 0.8739 - val_accuracy: 0.7188\n",
      "Epoch 78/100\n",
      "7/7 [==============================] - 17s 2s/step - loss: 0.1707 - accuracy: 0.9200 - val_loss: 0.6636 - val_accuracy: 0.8571\n",
      "Epoch 79/100\n",
      "7/7 [==============================] - 17s 2s/step - loss: 0.1445 - accuracy: 0.9500 - val_loss: 0.5048 - val_accuracy: 0.9062\n",
      "Epoch 80/100\n",
      "7/7 [==============================] - 17s 2s/step - loss: 0.2860 - accuracy: 0.9050 - val_loss: 0.4888 - val_accuracy: 0.8095\n",
      "Epoch 81/100\n",
      "7/7 [==============================] - 17s 2s/step - loss: 0.1831 - accuracy: 0.9200 - val_loss: 0.5660 - val_accuracy: 0.7812\n",
      "Epoch 82/100\n",
      "7/7 [==============================] - 17s 2s/step - loss: 0.1677 - accuracy: 0.9500 - val_loss: 0.2004 - val_accuracy: 0.9048\n",
      "Epoch 83/100\n",
      "7/7 [==============================] - 17s 2s/step - loss: 0.1527 - accuracy: 0.9500 - val_loss: 0.6366 - val_accuracy: 0.7812\n",
      "Epoch 84/100\n",
      "7/7 [==============================] - 17s 2s/step - loss: 0.1422 - accuracy: 0.9450 - val_loss: 0.5413 - val_accuracy: 0.8095\n",
      "Epoch 85/100\n",
      "7/7 [==============================] - 17s 2s/step - loss: 0.1412 - accuracy: 0.9450 - val_loss: 0.8637 - val_accuracy: 0.7188\n",
      "Epoch 86/100\n",
      "7/7 [==============================] - 17s 2s/step - loss: 0.1428 - accuracy: 0.9500 - val_loss: 0.2951 - val_accuracy: 0.8571\n",
      "Epoch 87/100\n",
      "7/7 [==============================] - 17s 2s/step - loss: 0.0872 - accuracy: 0.9700 - val_loss: 0.4855 - val_accuracy: 0.8125\n",
      "Epoch 88/100\n",
      "7/7 [==============================] - 17s 2s/step - loss: 0.1342 - accuracy: 0.9500 - val_loss: 1.0235 - val_accuracy: 0.7619\n",
      "Epoch 89/100\n",
      "7/7 [==============================] - 17s 2s/step - loss: 0.1202 - accuracy: 0.9500 - val_loss: 0.7110 - val_accuracy: 0.7500\n",
      "Epoch 90/100\n",
      "7/7 [==============================] - 17s 2s/step - loss: 0.1221 - accuracy: 0.9350 - val_loss: 0.7860 - val_accuracy: 0.8571\n",
      "Epoch 91/100\n",
      "7/7 [==============================] - 17s 2s/step - loss: 0.1572 - accuracy: 0.9350 - val_loss: 0.9220 - val_accuracy: 0.7500\n",
      "Epoch 92/100\n",
      "7/7 [==============================] - 17s 2s/step - loss: 0.0921 - accuracy: 0.9450 - val_loss: 0.7217 - val_accuracy: 0.8095\n",
      "Epoch 93/100\n",
      "7/7 [==============================] - 17s 2s/step - loss: 0.0693 - accuracy: 0.9800 - val_loss: 1.3878 - val_accuracy: 0.7812\n",
      "Epoch 94/100\n",
      "7/7 [==============================] - 17s 2s/step - loss: 0.0890 - accuracy: 0.9600 - val_loss: 0.7793 - val_accuracy: 0.8571\n",
      "Epoch 95/100\n",
      "7/7 [==============================] - 17s 2s/step - loss: 0.1910 - accuracy: 0.9450 - val_loss: 0.5136 - val_accuracy: 0.8438\n",
      "Epoch 96/100\n",
      "7/7 [==============================] - 17s 2s/step - loss: 0.1519 - accuracy: 0.9400 - val_loss: 0.8786 - val_accuracy: 0.6667\n",
      "Epoch 97/100\n",
      "7/7 [==============================] - 17s 2s/step - loss: 0.1066 - accuracy: 0.9450 - val_loss: 0.5469 - val_accuracy: 0.8125\n",
      "Epoch 98/100\n",
      "7/7 [==============================] - 17s 2s/step - loss: 0.1026 - accuracy: 0.9750 - val_loss: 1.0664 - val_accuracy: 0.8095\n",
      "Epoch 99/100\n",
      "7/7 [==============================] - 17s 2s/step - loss: 0.0985 - accuracy: 0.9500 - val_loss: 0.8375 - val_accuracy: 0.7188\n",
      "Epoch 100/100\n",
      "7/7 [==============================] - 17s 2s/step - loss: 0.1043 - accuracy: 0.9750 - val_loss: 0.1767 - val_accuracy: 0.9524\n"
     ]
    }
   ],
   "source": [
    "#### Train the model\n",
    "history = model.fit(\n",
    "    train_generator,\n",
    "    steps_per_epoch=7,\n",
    "    epochs = 100,\n",
    "    validation_data = validation_generator,\n",
    "    validation_steps=1\n",
    ")"
   ]
  },
  {
   "cell_type": "code",
   "execution_count": null,
   "metadata": {
    "id": "Fb5osYGpnC-z"
   },
   "outputs": [],
   "source": [
    "#### Testing a new Image"
   ]
  },
  {
   "cell_type": "code",
   "execution_count": 12,
   "metadata": {
    "colab": {
     "base_uri": "https://localhost:8080/"
    },
    "id": "PIwKXOOLyVjF",
    "outputId": "0d83c4cb-535e-4f27-85fc-453c679d5d1b"
   },
   "outputs": [
    {
     "name": "stdout",
     "output_type": "stream",
     "text": [
      "Cancer is present\n"
     ]
    }
   ],
   "source": [
    "import cv2\n",
    "import numpy as np\n",
    "img = cv2.imread(\"yes2.jpg\")\n",
    "img = cv2.resize(img,(224,224))\n",
    "img = np.expand_dims(img,axis=0)\n",
    "if model.predict([img])[0][0] == 0:\n",
    "    print(\"Cancer is not present\")\n",
    "else:\n",
    "    print(\"Cancer is present\")"
   ]
  },
  {
   "cell_type": "code",
   "execution_count": 13,
   "metadata": {},
   "outputs": [],
   "source": [
    "# Saving model to disk\n",
    "import pickle\n",
    "pickle.dump(model, open('brain_tumor.pkl','wb'))"
   ]
  },
  {
   "cell_type": "code",
   "execution_count": 14,
   "metadata": {
    "id": "sx07e2c80HJ3"
   },
   "outputs": [],
   "source": [
    "model.save(\"brain_tumor_model.h5\")"
   ]
  },
  {
   "cell_type": "code",
   "execution_count": null,
   "metadata": {},
   "outputs": [],
   "source": []
  }
 ],
 "metadata": {
  "accelerator": "GPU",
  "colab": {
   "collapsed_sections": [],
   "name": "22 May - RCPIT - Covid - CNN.ipynb",
   "provenance": []
  },
  "kernelspec": {
   "display_name": "Python 3",
   "language": "python",
   "name": "python3"
  },
  "language_info": {
   "codemirror_mode": {
    "name": "ipython",
    "version": 3
   },
   "file_extension": ".py",
   "mimetype": "text/x-python",
   "name": "python",
   "nbconvert_exporter": "python",
   "pygments_lexer": "ipython3",
   "version": "3.7.3"
  }
 },
 "nbformat": 4,
 "nbformat_minor": 1
}
